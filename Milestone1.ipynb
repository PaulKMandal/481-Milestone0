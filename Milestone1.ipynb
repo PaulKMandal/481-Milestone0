{
 "cells": [
  {
   "cell_type": "code",
   "execution_count": 2,
   "metadata": {},
   "outputs": [],
   "source": [
    "m = [[0, 0, 0, 1, 1, 0, 0, 1],\n",
    "     [0, 0, 1, 0, 1, 0, 0, 0],\n",
    "     [0, 0, 1, 0, 1, 1, 0, 0],\n",
    "     [0, 1, 0, 0, 1, 0, 1, 0],\n",
    "     [0, 0, 0, 0, 1, 0, 0, 0],\n",
    "     [0, 1, 0, 0, 0, 0, 0, 0],\n",
    "     [0, 0, 0, 1, 1, 1, 1, 1],\n",
    "     [0, 0, 0, 0, 0, 0, 0, 0]]"
   ]
  },
  {
   "cell_type": "code",
   "execution_count": 33,
   "metadata": {},
   "outputs": [
    {
     "name": "stderr",
     "output_type": "stream",
     "text": [
      "'True' is not recognized as an internal or external command,\n",
      "operable program or batch file.\n"
     ]
    }
   ],
   "source": [
    "start = (0,0)\n",
    "end = (0,6)"
   ]
  },
  {
   "cell_type": "code",
   "execution_count": 35,
   "metadata": {},
   "outputs": [],
   "source": [
    "def bfs(start, end, m):\n",
    "    o = [start]\n",
    "    c = []\n",
    "    while o != []:\n",
    "        X = o.pop(0)\n",
    "        if X == end:\n",
    "            return\n",
    "        temp = []\n",
    "        if X[0] != 0 and m[X[0] - 1][X[1]] != 1 :\n",
    "            temp.insert(0, (X[0] - 1, X[1]))\n",
    "        if X[0] != 7 and m[X[0] + 1][X[1]] != 1 :\n",
    "            temp.insert(0, (X[0] - 1, X[1]))\n",
    "        if X[1] != 0 and m[X[0]][X[1] - 1] != 1 :\n",
    "            temp.insert(0, (X[0], X[1] - 1))\n",
    "        if X[1] != 7 and m[X[0]][X[1] + 1] != 1 :\n",
    "            temp.insert(0, (X[0], X[1] + 1))\n",
    "        \n",
    "        c.insert(0, X)\n",
    "        for child in temp:\n",
    "            if (not child in c) and (not child in o):\n",
    "                o.insert(0, child)"
   ]
  },
  {
   "cell_type": "code",
   "execution_count": null,
   "metadata": {},
   "outputs": [],
   "source": []
  }
 ],
 "metadata": {
  "kernelspec": {
   "display_name": "Python 3",
   "language": "python",
   "name": "python3"
  },
  "language_info": {
   "codemirror_mode": {
    "name": "ipython",
    "version": 3
   },
   "file_extension": ".py",
   "mimetype": "text/x-python",
   "name": "python",
   "nbconvert_exporter": "python",
   "pygments_lexer": "ipython3",
   "version": "3.6.2"
  }
 },
 "nbformat": 4,
 "nbformat_minor": 2
}
